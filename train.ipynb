{
 "cells": [
  {
   "cell_type": "code",
   "execution_count": 1,
   "metadata": {},
   "outputs": [],
   "source": [
    "!python train_voiceband.py ^\n",
    "        --config_file=hparams/origin.json^\n",
    "        --dataset=data/kiritan2021-12-15_13-28-12.csv^\n",
    "        --view_interval=10 ^\n",
    "        --epochs=1000\n",
    "\n",
    "    "
   ]
  },
  {
   "cell_type": "code",
   "execution_count": null,
   "metadata": {},
   "outputs": [],
   "source": [
    "!python train_voiceband.py ^\n",
    "        --config_file=hparams/origin.json^\n",
    "        --dataset=data/kiritan2021-12-15_13-28-12.csv^\n",
    "        --view_interval=10 ^\n",
    "        --epochs=1000^\n",
    "        --max_length=31768^\n",
    "        --save_name=VoiceBand_notanh^\n",
    "        --num_workers=4"
   ]
  }
 ],
 "metadata": {
  "interpreter": {
   "hash": "955a6a801cf550194430c07334956e6b436988895763cfea702959007db765db"
  },
  "kernelspec": {
   "display_name": "Python 3.8.5 64-bit ('base': conda)",
   "language": "python",
   "name": "python3"
  },
  "language_info": {
   "codemirror_mode": {
    "name": "ipython",
    "version": 3
   },
   "file_extension": ".py",
   "mimetype": "text/x-python",
   "name": "python",
   "nbconvert_exporter": "python",
   "pygments_lexer": "ipython3",
   "version": "3.9.7"
  },
  "orig_nbformat": 4
 },
 "nbformat": 4,
 "nbformat_minor": 2
}
