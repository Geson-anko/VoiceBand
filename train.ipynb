{
 "cells": [
  {
   "cell_type": "code",
   "execution_count": 2,
   "metadata": {},
   "outputs": [],
   "source": [
    "!python train_voiceband.py --dataset=data/kiritan2021-12-07_20-40-44.csv --max_length=1024 --view_interval=1 --log_every_n_steps=1"
   ]
  }
 ],
 "metadata": {
  "interpreter": {
   "hash": "955a6a801cf550194430c07334956e6b436988895763cfea702959007db765db"
  },
  "kernelspec": {
   "display_name": "Python 3.8.5 64-bit ('base': conda)",
   "language": "python",
   "name": "python3"
  },
  "language_info": {
   "codemirror_mode": {
    "name": "ipython",
    "version": 3
   },
   "file_extension": ".py",
   "mimetype": "text/x-python",
   "name": "python",
   "nbconvert_exporter": "python",
   "pygments_lexer": "ipython3",
   "version": "3.8.10"
  },
  "orig_nbformat": 4
 },
 "nbformat": 4,
 "nbformat_minor": 2
}
